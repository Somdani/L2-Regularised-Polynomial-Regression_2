{
 "cells": [
  {
   "cell_type": "markdown",
   "metadata": {},
   "source": [
    "#### Bhekie Danisa: 201633631"
   ]
  },
  {
   "cell_type": "code",
   "execution_count": 25,
   "metadata": {},
   "outputs": [],
   "source": [
    "import numpy as np\n",
    "import pandas as pd\n",
    "from scipy import linalg\n",
    "import matplotlib.pyplot as plt\n",
    "from sklearn.linear_model import Ridge\n",
    "from sklearn.metrics import mean_squared_error\n",
    "from sklearn.model_selection import cross_val_score"
   ]
  },
  {
   "cell_type": "markdown",
   "metadata": {},
   "source": [
    "#### Generating Datasets"
   ]
  },
  {
   "cell_type": "code",
   "execution_count": 26,
   "metadata": {},
   "outputs": [],
   "source": [
    "np.random.seed(123)\n",
    "x = np.random.uniform(0, 300, 200)\n",
    "x = x[np.argsort(x)]\n",
    "y = 5 + x**1 + x**2 + x**3\n",
    "y_obs = y + np.random.normal(0, 900000, 200)"
   ]
  },
  {
   "cell_type": "markdown",
   "metadata": {},
   "source": [
    "#### Creating a function that takes inputs x and returns a design matrix of a 6th-degree polynomial."
   ]
  },
  {
   "cell_type": "code",
   "execution_count": 27,
   "metadata": {},
   "outputs": [],
   "source": [
    "def design_matrix(x):\n",
    "    n = len(x)\n",
    "    return np.c_[np.ones(n), x, x**2, x**3, x**4, x**5, x**6]"
   ]
  },
  {
   "cell_type": "code",
   "execution_count": 28,
   "metadata": {},
   "outputs": [],
   "source": [
    "λ = 10\n",
    "I = np.eye(7)\n",
    "I[0,0] = 0"
   ]
  },
  {
   "cell_type": "markdown",
   "metadata": {},
   "source": [
    "#### Creating a function that takes a design matrix, lambda, and target variable as inputs to perform L2 regularised least squares regression to return the parameter estimates. "
   ]
  },
  {
   "cell_type": "code",
   "execution_count": 29,
   "metadata": {},
   "outputs": [],
   "source": [
    "def ridge_L2(x, y_obs, λ):\n",
    "    X = design_matrix(x)\n",
    "    θ = np.linalg.inv(X.T.dot(X) + λ*I).dot(X.T).dot(y_obs)\n",
    "    return θ"
   ]
  },
  {
   "cell_type": "markdown",
   "metadata": {},
   "source": [
    "#### Splitting data in to training and test data"
   ]
  },
  {
   "cell_type": "code",
   "execution_count": 30,
   "metadata": {},
   "outputs": [],
   "source": [
    "X_train = x[x < 200]\n",
    "X_test = x[x >= 200] "
   ]
  },
  {
   "cell_type": "code",
   "execution_count": 31,
   "metadata": {},
   "outputs": [],
   "source": [
    "y_train = y_obs[x < 200]\n",
    "y_test = y_obs[x >= 200]"
   ]
  },
  {
   "cell_type": "markdown",
   "metadata": {},
   "source": [
    "#### Cross-validation"
   ]
  },
  {
   "cell_type": "code",
   "execution_count": 32,
   "metadata": {},
   "outputs": [],
   "source": [
    "λ = [0, 0.5, 10, 20, 30, 80, 100, 200]    "
   ]
  },
  {
   "cell_type": "code",
   "execution_count": 34,
   "metadata": {},
   "outputs": [],
   "source": [
    "mse_train = []\n",
    "for i in range(len(λ)):\n",
    "    θ_train = ridge_L2(X_train, y_train, λ[i])\n",
    "    X = design_matrix(X_train)\n",
    "    y_pred = X.dot(θ_train)\n",
    "    d = y_train - y_pred\n",
    "    mse_i = 1/len(X_train)*(d).dot(d)\n",
    "    mse_train.append(mse_i)"
   ]
  },
  {
   "cell_type": "code",
   "execution_count": 35,
   "metadata": {},
   "outputs": [],
   "source": [
    "mse_test = []\n",
    "for i in range(len(λ)):\n",
    "    θ_test = ridge_L2(X_test, y_test, λ[i])\n",
    "    X_t = design_matrix(X_test)\n",
    "    y_pred = X_t.dot(θ_test)\n",
    "    d = y_test - y_pred\n",
    "    mse_j = 1/len(X_test)*(d).dot(d)\n",
    "    mse_test.append(mse_j)"
   ]
  },
  {
   "cell_type": "code",
   "execution_count": 42,
   "metadata": {},
   "outputs": [],
   "source": [
    "maximums = np.maximum( mse_train, mse_test)"
   ]
  },
  {
   "cell_type": "code",
   "execution_count": 45,
   "metadata": {},
   "outputs": [],
   "source": [
    "min_max = min(maximums)"
   ]
  },
  {
   "cell_type": "code",
   "execution_count": 48,
   "metadata": {},
   "outputs": [
    {
     "name": "stdout",
     "output_type": "stream",
     "text": [
      "         MSE train       MSE test      Maximums       Min_Max\n",
      "λ=0    7.239318e+11  1.025179e+12  1.025179e+12           NaN\n",
      "λ=0.5  7.239318e+11  6.558407e+11  7.239318e+11  7.239318e+11\n",
      "λ=10   7.239335e+11  6.770095e+11  7.239335e+11           NaN\n",
      "λ=20   7.239378e+11  6.855554e+11  7.239378e+11           NaN\n",
      "λ=30   7.239437e+11  6.895585e+11  7.239437e+11           NaN\n",
      "λ=80   7.239803e+11  6.957903e+11  7.239803e+11           NaN\n",
      "λ=100  7.239947e+11  6.966510e+11  7.239947e+11           NaN\n",
      "λ=200  7.240530e+11  6.984570e+11  7.240530e+11           NaN\n"
     ]
    }
   ],
   "source": [
    "train = np.r_[mse_train]\n",
    "test = np.r_[mse_test]\n",
    "maxi = np.r_[maximums]\n",
    "mini = np.r_[np.nan, min_max, np.nan,np.nan,np.nan,np.nan,np.nan,np.nan]\n",
    "print(pd.DataFrame(np.c_[train, test, maxi, mini],columns=['MSE train ', ' MSE test', 'Maximums', 'Min_Max'],\n",
    "      index=['λ=0 ', 'λ=0.5', 'λ=10', 'λ=20', 'λ=30', 'λ=80', 'λ=100', 'λ=200']))"
   ]
  },
  {
   "cell_type": "markdown",
   "metadata": {},
   "source": [
    "#### The min-max value ontained above is the MSE value from train set corresponding to λ[1] which is 0.5"
   ]
  },
  {
   "cell_type": "markdown",
   "metadata": {},
   "source": [
    "#### Plotting lambda against the MSE for train and test dataset and discuss the results. "
   ]
  },
  {
   "cell_type": "code",
   "execution_count": 40,
   "metadata": {},
   "outputs": [
    {
     "data": {
      "image/png": "[encoded data removed]",
      "text/plain": [
       "<Figure size 432x288 with 1 Axes>"
      ]
     },
     "metadata": {
      "needs_background": "light"
     },
     "output_type": "display_data"
    }
   ],
   "source": [
    "plt.plot(λ, mse_train, 'bo-', label='MSE Train', color=\"blue\", linewidth=3)\n",
    "plt.plot(λ, mse_test, 'bo-', label='MSE Test ', color=\"red\", linewidth=3)\n",
    "plt.xlabel('Lamda values'); plt.ylabel('MSE for each lambda')\n",
    "plt.title('Cross-validation with different lamdas')\n",
    "plt.legend()\n",
    "plt.grid()"
   ]
  },
  {
   "cell_type": "code",
   "execution_count": null,
   "metadata": {},
   "outputs": [],
   "source": []
  }
 ],
 "metadata": {
  "kernelspec": {
   "display_name": "Python 3",
   "language": "python",
   "name": "python3"
  },
  "language_info": {
   "codemirror_mode": {
    "name": "ipython",
    "version": 3
   },
   "file_extension": ".py",
   "mimetype": "text/x-python",
   "name": "python",
   "nbconvert_exporter": "python",
   "pygments_lexer": "ipython3",
   "version": "3.7.6"
  }
 },
 "nbformat": 4,
 "nbformat_minor": 4
}
